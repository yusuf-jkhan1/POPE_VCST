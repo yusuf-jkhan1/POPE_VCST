{
 "metadata": {
  "language_info": {
   "codemirror_mode": {
    "name": "ipython",
    "version": 3
   },
   "file_extension": ".py",
   "mimetype": "text/x-python",
   "name": "python",
   "nbconvert_exporter": "python",
   "pygments_lexer": "ipython3",
   "version": "3.7.4-final"
  },
  "orig_nbformat": 2,
  "kernelspec": {
   "name": "python3",
   "display_name": "Python 3",
   "language": "python"
  }
 },
 "nbformat": 4,
 "nbformat_minor": 2,
 "cells": [
  {
   "cell_type": "code",
   "execution_count": 1,
   "metadata": {},
   "outputs": [],
   "source": [
    "import kotoTelematics as kt\n",
    "from kotoQuery import destination_collector\n",
    "from kotoDataHandler import dc_mongo_handler"
   ]
  },
  {
   "cell_type": "code",
   "execution_count": 2,
   "metadata": {},
   "outputs": [],
   "source": [
    "cnxn = kt.kotoConnect()"
   ]
  },
  {
   "cell_type": "code",
   "execution_count": 6,
   "metadata": {},
   "outputs": [],
   "source": [
    "ts_scraper = kt.kotoTsTableScraper(cnxn_obj=cnxn, fetch_size=10000, start_date='2020-01-15',end_date='2020-01-15',end_time='01:00:00')"
   ]
  },
  {
   "cell_type": "code",
   "execution_count": 4,
   "metadata": {},
   "outputs": [],
   "source": [
    "from kotoQuery import destination_collector\n",
    "from kotoDataHandler import dc_mongo_handler"
   ]
  },
  {
   "cell_type": "code",
   "execution_count": 7,
   "metadata": {},
   "outputs": [
    {
     "output_type": "stream",
     "name": "stdout",
     "text": [
      "minTs: 2020-01-15 00:05:00\n",
      "maxTs: 2020-01-15 00:10:00\n",
      "minTs: 2020-01-15 00:10:00\n",
      "maxTs: 2020-01-15 00:15:00\n",
      "minTs: 2020-01-15 00:15:00\n",
      "maxTs: 2020-01-15 00:20:00\n",
      "minTs: 2020-01-15 00:20:00\n",
      "maxTs: 2020-01-15 00:25:00\n",
      "minTs: 2020-01-15 00:25:00\n",
      "maxTs: 2020-01-15 00:30:00\n",
      "minTs: 2020-01-15 00:30:00\n",
      "maxTs: 2020-01-15 00:35:00\n",
      "minTs: 2020-01-15 00:35:00\n",
      "maxTs: 2020-01-15 00:40:00\n",
      "minTs: 2020-01-15 00:40:00\n",
      "maxTs: 2020-01-15 00:45:00\n",
      "minTs: 2020-01-15 00:45:00\n",
      "maxTs: 2020-01-15 00:50:00\n",
      "minTs: 2020-01-15 00:50:00\n",
      "maxTs: 2020-01-15 00:55:00\n",
      "minTs: 2020-01-15 00:55:00\n",
      "maxTs: 2020-01-15 01:00:00\n",
      "minTs: 2020-01-15 01:00:00\n",
      "maxTs: 2020-01-15 01:05:00\n"
     ]
    }
   ],
   "source": [
    "ts_scraper.run_table_scraper(columns=destination_collector.columns,query_function=destination_collector,data_handler=dc_mongo_handler)"
   ]
  },
  {
   "cell_type": "code",
   "execution_count": null,
   "metadata": {},
   "outputs": [],
   "source": []
  }
 ]
}